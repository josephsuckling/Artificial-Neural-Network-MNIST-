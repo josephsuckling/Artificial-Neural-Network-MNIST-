{
 "cells": [
  {
   "cell_type": "markdown",
   "metadata": {},
   "source": [
    "This project has been made with strong reference to Tariq Rashid and his book on creating ANNs (Make your Own Neural Network. 2016.) "
   ]
  },
  {
   "cell_type": "code",
   "execution_count": 2,
   "metadata": {},
   "outputs": [],
   "source": [
    "# python notebook for Make Your Own Neural Network\n",
    "# code for a 3-layer neural network, and code for learning the MNIST dataset\n",
    "# (c) Tariq Rashid, 2016\n",
    "# license is GPLv2\n",
    "\n",
    "import numpy\n",
    "import scipy.special\n",
    "import matplotlib.pyplot\n",
    "%matplotlib inline\n",
    "import seaborn as sn\n",
    "import pandas as pd\n",
    "import matplotlib.pyplot as plt\n",
    "import random"
   ]
  },
  {
   "cell_type": "code",
   "execution_count": 6,
   "metadata": {},
   "outputs": [],
   "source": [
    "# neural network class definition\n",
    "class neuralNetwork:\n",
    "    \n",
    "# initialise the neural network\n",
    "    def __init__(self, inputnodes, hiddennodes, outputnodes, learningrate):\n",
    "        # set number of nodes in each input, hidden, output layer\n",
    "        self.inodes = inputnodes\n",
    "        self.hnodes = hiddennodes\n",
    "        self.onodes = outputnodes\n",
    "        \n",
    "        # link weight matrices, wih and who\n",
    "        # weights inside the arrays are w_i_j, where link is from node i to node j in the next layer\n",
    "        # w11 w21\n",
    "        # w12 w22 etc \n",
    "        self.wih = numpy.random.normal(0.0, pow(self.inodes, -0.5), (self.hnodes, self.inodes))\n",
    "        self.who = numpy.random.normal(0.0, pow(self.hnodes, -0.5), (self.onodes, self.hnodes))\n",
    "\n",
    "        # learning rate\n",
    "        self.lr = learningrate\n",
    "        \n",
    "        # activation function is the sigmoid function\n",
    "        self.activation_function = lambda x: scipy.special.expit(x)\n",
    "        \n",
    "# train the neural network\n",
    "    def train(self, inputs_list, targets_list):\n",
    "        # convert inputs list to 2d array\n",
    "        inputs = numpy.array(inputs_list, ndmin=2).T\n",
    "        targets = numpy.array(targets_list, ndmin=2).T\n",
    "        \n",
    "        # calculate signals into hidden layer\n",
    "        hidden_inputs = numpy.dot(self.wih, inputs)\n",
    "        # calculate the signals emerging from hidden layer\n",
    "        hidden_outputs = self.activation_function(hidden_inputs)\n",
    "        \n",
    "        # calculate signals into final output layer\n",
    "        final_inputs = numpy.dot(self.who, hidden_outputs)\n",
    "        # calculate the signals emerging from final output layer\n",
    "        final_outputs = self.activation_function(final_inputs)\n",
    "        \n",
    "        # output layer error is the (target - actual)\n",
    "        output_errors = targets - final_outputs\n",
    "        # hidden layer error is the output_errors, split by weights, recombined at hidden nodes\n",
    "        hidden_errors = numpy.dot(self.who.T, output_errors) \n",
    "        \n",
    "        # update the weights for the links between the hidden and output layers\n",
    "        self.who += self.lr * numpy.dot((output_errors * final_outputs * (1.0 - final_outputs)), numpy.transpose(hidden_outputs))\n",
    "        \n",
    "        # update the weights for the links between the input and hidden layers\n",
    "        self.wih += self.lr * numpy.dot((hidden_errors * hidden_outputs * (1.0 - hidden_outputs)), numpy.transpose(inputs))\n",
    "        \n",
    "    \n",
    "# query the neural network\n",
    "    def query(self, inputs_list):\n",
    "        # convert inputs list to 2d array\n",
    "        inputs = numpy.array(inputs_list, ndmin=2).T\n",
    "        \n",
    "        # calculate signals into hidden layer\n",
    "        hidden_inputs = numpy.dot(self.wih, inputs)\n",
    "        # calculate the signals emerging from hidden layer\n",
    "        hidden_outputs = self.activation_function(hidden_inputs)\n",
    "        \n",
    "        # calculate signals into final output layer\n",
    "        final_inputs = numpy.dot(self.who, hidden_outputs)\n",
    "        # calculate the signals emerging from final output layer\n",
    "        final_outputs = self.activation_function(final_inputs)\n",
    "        \n",
    "        return final_outputs"
   ]
  },
  {
   "cell_type": "code",
   "execution_count": null,
   "metadata": {},
   "outputs": [],
   "source": [
    "performance_array =[]"
   ]
  },
  {
   "cell_type": "code",
   "execution_count": 245,
   "metadata": {},
   "outputs": [],
   "source": [
    "# number of input, hidden and output nodes\n",
    "input_nodes = 784\n",
    "hidden_nodes = 200\n",
    "output_nodes = 10\n",
    "\n",
    "# learning rate\n",
    "learning_rate = 0.05\n",
    "\n",
    "# create instance of neural network\n",
    "n = neuralNetwork(input_nodes,hidden_nodes,output_nodes, learning_rate)\n",
    "\n",
    "# load the mnist training data CSV file into a list\n",
    "training_data_file = open(\"mnist_train.csv\", 'r')\n",
    "training_data_list = training_data_file.readlines()\n",
    "training_data_file.close()\n",
    "\n",
    "# load the mnist test data CSV file into a list\n",
    "test_data_file = open(\"mnist_test.csv\", 'r')\n",
    "test_data_list = test_data_file.readlines()\n",
    "test_data_file.close()\n",
    "\n",
    "training_data_list2 = training_data_list"
   ]
  },
  {
   "cell_type": "code",
   "execution_count": 247,
   "metadata": {},
   "outputs": [
    {
     "name": "stdout",
     "output_type": "stream",
     "text": [
      "LMAOOO\n",
      "LMAOOO\n",
      "epoch =  2 performance =  96.53\n",
      "LMAOOO\n",
      "LMAOOO\n",
      "LMAOOO\n",
      "epoch =  3 performance =  96.97\n",
      "LMAOOO\n",
      "LMAOOO\n"
     ]
    },
    {
     "ename": "KeyboardInterrupt",
     "evalue": "",
     "output_type": "error",
     "traceback": [
      "\u001b[0;31m---------------------------------------------------------------------------\u001b[0m",
      "\u001b[0;31mKeyboardInterrupt\u001b[0m                         Traceback (most recent call last)",
      "\u001b[1;32m/Users/josephsuckling/Desktop/Networks Final/1181663_MST.ipynb Cell 5'\u001b[0m in \u001b[0;36m<cell line: 5>\u001b[0;34m()\u001b[0m\n\u001b[1;32m     <a href='vscode-notebook-cell:/Users/josephsuckling/Desktop/Networks%20Final/1181663_MST.ipynb#ch0000007?line=9'>10</a>\u001b[0m \u001b[39mfor\u001b[39;00m record \u001b[39min\u001b[39;00m training_data_list:\n\u001b[1;32m     <a href='vscode-notebook-cell:/Users/josephsuckling/Desktop/Networks%20Final/1181663_MST.ipynb#ch0000007?line=10'>11</a>\u001b[0m     \u001b[39m# split the record by the ',' commas\u001b[39;00m\n\u001b[1;32m     <a href='vscode-notebook-cell:/Users/josephsuckling/Desktop/Networks%20Final/1181663_MST.ipynb#ch0000007?line=12'>13</a>\u001b[0m     all_values \u001b[39m=\u001b[39m record\u001b[39m.\u001b[39msplit(\u001b[39m'\u001b[39m\u001b[39m,\u001b[39m\u001b[39m'\u001b[39m)\n\u001b[0;32m---> <a href='vscode-notebook-cell:/Users/josephsuckling/Desktop/Networks%20Final/1181663_MST.ipynb#ch0000007?line=13'>14</a>\u001b[0m     inputs \u001b[39m=\u001b[39m (numpy\u001b[39m.\u001b[39;49masfarray(all_values[\u001b[39m1\u001b[39;49m:]) \u001b[39m/\u001b[39m \u001b[39m255.0\u001b[39m \u001b[39m*\u001b[39m \u001b[39m0.99\u001b[39m) \u001b[39m+\u001b[39m \u001b[39m0.01\u001b[39m\n\u001b[1;32m     <a href='vscode-notebook-cell:/Users/josephsuckling/Desktop/Networks%20Final/1181663_MST.ipynb#ch0000007?line=14'>15</a>\u001b[0m     \u001b[39m# create the target output values (all 0.01, except the desired label which is 0.99)\u001b[39;00m\n\u001b[1;32m     <a href='vscode-notebook-cell:/Users/josephsuckling/Desktop/Networks%20Final/1181663_MST.ipynb#ch0000007?line=15'>16</a>\u001b[0m     targets \u001b[39m=\u001b[39m numpy\u001b[39m.\u001b[39mzeros(output_nodes) \u001b[39m+\u001b[39m \u001b[39m0.01\u001b[39m\n",
      "\u001b[0;31mKeyboardInterrupt\u001b[0m: "
     ]
    }
   ],
   "source": [
    "# train the neural network\n",
    "n = neuralNetwork(input_nodes,hidden_nodes,output_nodes, learning_rate)\n",
    "index = 0\n",
    "\n",
    "for epochs in [2,3,4,5,6,7]:\n",
    "    for e in range(epochs):\n",
    "        # go through all records in the training data set \n",
    "        #print(\"hidden to output weight 0,0=\", n.who[4][5])\n",
    "        #print(\"input to hidden weight 0,0=\", n.wih[4][5])\n",
    "        for record in training_data_list:\n",
    "            # split the record by the ',' commas\n",
    "            \n",
    "            all_values = record.split(',')\n",
    "            inputs = (numpy.asfarray(all_values[1:]) / 255.0 * 0.99) + 0.01\n",
    "            # create the target output values (all 0.01, except the desired label which is 0.99)\n",
    "            targets = numpy.zeros(output_nodes) + 0.01\n",
    "            # all_values[0] is the target label for this record\n",
    "            targets[int(all_values[0])] = 0.99\n",
    "            n.train(inputs, targets)\n",
    "            pass\n",
    "        pass\n",
    "        random.shuffle(training_data_list)  \n",
    "        print(\"LMAOOO\")            #<------- to change between post-epoch randomisation \n",
    "        \n",
    "\n",
    "    #print(\"hidden to output weight 0,0=\", n.who[4][5])\n",
    "    #print(\"input to hidden weight 0,0=\", n.wih[4][5])\n",
    "\n",
    "    # test the neural network\n",
    "\n",
    "    scorecard = []\n",
    "    out_array = numpy.zeros((10,10))\n",
    "    count_array = numpy.zeros(10)\n",
    "\n",
    "\n",
    "\n",
    "\n",
    "    # go through all the records in the test data set\n",
    "    for record in test_data_list:\n",
    "        # split the record by the ',' commas\n",
    "        all_values = record.split(',')\n",
    "        # correct answer is first value\n",
    "        correct_label = int(all_values[0])\n",
    "        # scale and shift the inputs\n",
    "        inputs = (numpy.asfarray(all_values[1:]) / 255.0 * 0.99) + 0.01\n",
    "        # query the network\n",
    "        outputs = n.query(inputs)\n",
    "        \n",
    "        \n",
    "        # Note that this array, outputs, is the 10 output nodes of the NW for each trial\n",
    "        # This is wehre you need to chnage the code below to build the confusion matrix\n",
    "        \n",
    "\n",
    "        label = numpy.argmax(outputs)\n",
    "        # append correct or incorrect to list \n",
    "        if (label == correct_label):\n",
    "            # network's answer matches correct answer, add 1 to scorecard\n",
    "            scorecard.append(1)\n",
    "            #add outputs to array\n",
    "\n",
    "        else:\n",
    "            # network's answer doesn't match correct answer, add 0 to scorecard\n",
    "            scorecard.append(0)\n",
    "            pass\n",
    "        pass\n",
    "\n",
    "        # sum all of the outputs for each image\n",
    "        for i in range(10):\n",
    "            out_array[correct_label][i] += outputs[i]\n",
    "        count_array[correct_label] += 1\n",
    "\n",
    "    # take the average of the outputs\n",
    "    for i in range(10):\n",
    "        out_array[i] = out_array[i]/count_array[i]\n",
    "\n",
    "    # calculate the performance score, the fraction of correct answers\n",
    "    scorecard_array = numpy.asarray(scorecard)\n",
    "    performance =  scorecard_array.sum() * 100 / scorecard_array.size\n",
    "    print(\"epoch = \", epochs, \"performance = \", performance)\n",
    "    performance_array[index] += performance\n",
    "\n",
    "    index += 1\n",
    "    \n",
    "    #ensure that a new instance is created each time so that learning doesn't carry over into next trial\n",
    "    n = neuralNetwork(input_nodes,hidden_nodes,output_nodes, learning_rate)\n"
   ]
  },
  {
   "cell_type": "code",
   "execution_count": 223,
   "metadata": {},
   "outputs": [
    {
     "name": "stdout",
     "output_type": "stream",
     "text": [
      "[96.39333333333333, 96.88333333333333, 97.29333333333334, 97.33333333333333, 97.54333333333334, 97.56333333333335]\n"
     ]
    },
    {
     "data": {
      "image/png": "[encoded data removed]",
      "text/plain": [
       "<Figure size 432x288 with 1 Axes>"
      ]
     },
     "metadata": {
      "needs_background": "light"
     },
     "output_type": "display_data"
    }
   ],
   "source": [
    "\n",
    "#Below is the data that was recorded for STAGE 1 \n",
    "\n",
    "epochs = [2,3,4,5,6,7]\n",
    "no_shuffle1 = [96.31, 96.81, 96.97, 97.16, 97.16, 97.41]\n",
    "no_shuffle2 = [96.22, 96.7, 97.14, 97.12, 97.14, 97.29]\n",
    "no_shuffle3 = [96.09, 96.53, 97.25, 97.16, 97.43, 97.52]\n",
    "\n",
    "shuffle1 = [96.39, 96.88, 97.16, 97.33, 97.55, 97.53]\n",
    "shuffle2 = [96.40, 96.92, 97.41, 97.37, 97.47, 97.51]\n",
    "shuffle3 = [96.39, 96.85, 97.31, 97.3, 97.61, 97.65]\n",
    "\n",
    "#this code generates the averages of the above data\n",
    "\n",
    "no_shuffle_avg = []\n",
    "for i in range(0, len(no_shuffle1)):\n",
    "    no_shuffle_avg.append((no_shuffle1[i]+no_shuffle2[i]+no_shuffle3[i])/3)\n",
    "\n",
    "shuffle_avg = []\n",
    "for i in range(0, len(shuffle1)):\n",
    "    shuffle_avg.append((shuffle1[i]+shuffle2[i]+shuffle3[i])/3)\n",
    "\n",
    "#this code plots a graph of the above data\n",
    "\n",
    "plt.plot(epochs, no_shuffle1, 'ro', epochs, no_shuffle2, 'ro')\n",
    "plt.plot(epochs, no_shuffle3, 'ro', label = \"unshuffled\")\n",
    "plt.plot(epochs, shuffle1, 'go', epochs, shuffle2, 'go')\n",
    "plt.plot(epochs, shuffle3, 'go', label = \"shuffled\")\n",
    "plt.xlabel(\"Number of epochs\")\n",
    "plt.ylabel(\"Performance (%)\")\n",
    "plt.title(\"Performance of shuffled vs unshuffled data across different epochs\")\n",
    "plt.legend()\n"
   ]
  },
  {
   "cell_type": "code",
   "execution_count": 222,
   "metadata": {},
   "outputs": [
    {
     "data": {
      "text/plain": [
       "<matplotlib.legend.Legend at 0x7fd0baba6d90>"
      ]
     },
     "execution_count": 222,
     "metadata": {},
     "output_type": "execute_result"
    },
    {
     "data": {
      "image/png": "[encoded data removed]",
      "text/plain": [
       "<Figure size 432x288 with 1 Axes>"
      ]
     },
     "metadata": {
      "needs_background": "light"
     },
     "output_type": "display_data"
    }
   ],
   "source": [
    "\n",
    "#this code graphs the averages used in stage 1\n",
    "\n",
    "plt.plot(epochs, shuffle_avg, 'go', label = \"shuffled\")\n",
    "plt.plot(epochs, no_shuffle_avg, 'ro', label = \"unshuffled\")\n",
    "plt.xlabel(\"Number of epochs\")\n",
    "plt.ylabel(\"Average performance (%)\")\n",
    "plt.title(\"Average performance of shuffled vs unshuffled data across different epochs\")\n",
    "plt.legend()"
   ]
  },
  {
   "cell_type": "code",
   "execution_count": 163,
   "metadata": {},
   "outputs": [],
   "source": [
    "shuffled_list =[]\n",
    "no_shuffle_list =[]"
   ]
  },
  {
   "cell_type": "code",
   "execution_count": 250,
   "metadata": {},
   "outputs": [
    {
     "name": "stdout",
     "output_type": "stream",
     "text": [
      "epoch =  2 performance =  96.54\n"
     ]
    },
    {
     "ename": "KeyboardInterrupt",
     "evalue": "",
     "output_type": "error",
     "traceback": [
      "\u001b[0;31m---------------------------------------------------------------------------\u001b[0m",
      "\u001b[0;31mKeyboardInterrupt\u001b[0m                         Traceback (most recent call last)",
      "\u001b[1;32m/Users/josephsuckling/Desktop/Networks Final/1181663_MST.ipynb Cell 9'\u001b[0m in \u001b[0;36m<cell line: 9>\u001b[0;34m()\u001b[0m\n\u001b[1;32m     <a href='vscode-notebook-cell:/Users/josephsuckling/Desktop/Networks%20Final/1181663_MST.ipynb#ch0000026?line=11'>12</a>\u001b[0m \u001b[39mfor\u001b[39;00m record \u001b[39min\u001b[39;00m training_data_list:\n\u001b[1;32m     <a href='vscode-notebook-cell:/Users/josephsuckling/Desktop/Networks%20Final/1181663_MST.ipynb#ch0000026?line=12'>13</a>\u001b[0m     \u001b[39m# split the record by the ',' commas\u001b[39;00m\n\u001b[1;32m     <a href='vscode-notebook-cell:/Users/josephsuckling/Desktop/Networks%20Final/1181663_MST.ipynb#ch0000026?line=14'>15</a>\u001b[0m     all_values \u001b[39m=\u001b[39m record\u001b[39m.\u001b[39msplit(\u001b[39m'\u001b[39m\u001b[39m,\u001b[39m\u001b[39m'\u001b[39m)\n\u001b[0;32m---> <a href='vscode-notebook-cell:/Users/josephsuckling/Desktop/Networks%20Final/1181663_MST.ipynb#ch0000026?line=15'>16</a>\u001b[0m     inputs \u001b[39m=\u001b[39m (numpy\u001b[39m.\u001b[39;49masfarray(all_values[\u001b[39m1\u001b[39;49m:]) \u001b[39m/\u001b[39m \u001b[39m255.0\u001b[39m \u001b[39m*\u001b[39m \u001b[39m0.99\u001b[39m) \u001b[39m+\u001b[39m \u001b[39m0.01\u001b[39m\n\u001b[1;32m     <a href='vscode-notebook-cell:/Users/josephsuckling/Desktop/Networks%20Final/1181663_MST.ipynb#ch0000026?line=16'>17</a>\u001b[0m     \u001b[39m# create the target output values (all 0.01, except the desired label which is 0.99)\u001b[39;00m\n\u001b[1;32m     <a href='vscode-notebook-cell:/Users/josephsuckling/Desktop/Networks%20Final/1181663_MST.ipynb#ch0000026?line=17'>18</a>\u001b[0m     targets \u001b[39m=\u001b[39m numpy\u001b[39m.\u001b[39mzeros(output_nodes) \u001b[39m+\u001b[39m \u001b[39m0.01\u001b[39m\n",
      "File \u001b[0;32m<__array_function__ internals>:5\u001b[0m, in \u001b[0;36masfarray\u001b[0;34m(*args, **kwargs)\u001b[0m\n",
      "File \u001b[0;32m~/opt/anaconda3/lib/python3.9/site-packages/numpy/lib/type_check.py:114\u001b[0m, in \u001b[0;36masfarray\u001b[0;34m(a, dtype)\u001b[0m\n\u001b[1;32m    112\u001b[0m \u001b[39mif\u001b[39;00m \u001b[39mnot\u001b[39;00m _nx\u001b[39m.\u001b[39missubdtype(dtype, _nx\u001b[39m.\u001b[39minexact):\n\u001b[1;32m    113\u001b[0m     dtype \u001b[39m=\u001b[39m _nx\u001b[39m.\u001b[39mfloat_\n\u001b[0;32m--> 114\u001b[0m \u001b[39mreturn\u001b[39;00m asarray(a, dtype\u001b[39m=\u001b[39;49mdtype)\n",
      "\u001b[0;31mKeyboardInterrupt\u001b[0m: "
     ]
    }
   ],
   "source": [
    "#This is the code that was used to generate data in STAGE 2, it is very similar to STAGE1 code, but a for loop was used to\n",
    "#repeat each trial seven times. outputs were printed for each trial and then copied and pasted into the cell beneath\n",
    "\n",
    "n = neuralNetwork(input_nodes,hidden_nodes,output_nodes, learning_rate)\n",
    "index = 0\n",
    "\n",
    "output_list = []\n",
    "epochs = 2                              #<----- this was changed from 2 to 3 to collect data for 2 or 3 epochs\n",
    "for index in range(0,7):\n",
    "    for e in range(epochs):\n",
    "        # go through all records in the training data set \n",
    "        for record in training_data_list:\n",
    "            # split the record by the ',' commas\n",
    "            \n",
    "            all_values = record.split(',')\n",
    "            inputs = (numpy.asfarray(all_values[1:]) / 255.0 * 0.99) + 0.01\n",
    "            # create the target output values (all 0.01, except the desired label which is 0.99)\n",
    "            targets = numpy.zeros(output_nodes) + 0.01\n",
    "            # all_values[0] is the target label for this record\n",
    "            targets[int(all_values[0])] = 0.99\n",
    "            n.train(inputs, targets)\n",
    "            pass\n",
    "        pass\n",
    "        random.shuffle(training_data_list)          #<------ once again used to toggle post-epoch shuffling\n",
    "\n",
    "\n",
    "    # test the neural network\n",
    "    scorecard = []\n",
    "    out_array = numpy.zeros((10,10))\n",
    "    count_array = numpy.zeros(10)\n",
    "\n",
    "\n",
    "    #random.shuffle(training_data_list)             #<------- this was a part of the code used to produce the data showed in...\n",
    "    # go through all the records in the test data set           #...table 4. this code was modified to produce the data (i.e....\n",
    "    for record in test_data_list:                               #...swapping test_data_list with training_data_list)\n",
    "        # split the record by the ',' commas\n",
    "        all_values = record.split(',')\n",
    "        # correct answer is first value\n",
    "        correct_label = int(all_values[0])\n",
    "        # scale and shift the inputs\n",
    "        inputs = (numpy.asfarray(all_values[1:]) / 255.0 * 0.99) + 0.01\n",
    "        # query the network\n",
    "        outputs = n.query(inputs)\n",
    "        \n",
    "        # Note that this array, outputs, is the 10 output nodes of the NW for each trial\n",
    "        # This is wehre you need to chnage the code below to build the confusion matrix\n",
    "\n",
    "        label = numpy.argmax(outputs)\n",
    "        # append correct or incorrect to list \n",
    "        if (label == correct_label):\n",
    "            # network's answer matches correct answer, add 1 to scorecard\n",
    "            scorecard.append(1)\n",
    "            #add outputs to array\n",
    "\n",
    "        else:\n",
    "            # network's answer doesn't match correct answer, add 0 to scorecard\n",
    "            scorecard.append(0)\n",
    "            pass\n",
    "        pass\n",
    "\n",
    "        # sum all of the outputs for each image\n",
    "        for i in range(10):\n",
    "            out_array[correct_label][i] += outputs[i]\n",
    "        count_array[correct_label] += 1\n",
    "\n",
    "    # take the average of the outputs\n",
    "    for i in range(10):\n",
    "        out_array[i] = out_array[i]/count_array[i]\n",
    "\n",
    "    # calculate the performance score, the fraction of correct answers\n",
    "    scorecard_array = numpy.asarray(scorecard)\n",
    "    performance =  scorecard_array.sum() * 100 / scorecard_array.size\n",
    "    print(\"epoch = \", epochs, \"performance = \", performance)\n",
    "    output_list.append(performance)\n",
    "\n",
    "\n",
    "    index += 1\n",
    "\n",
    "    #ensure that a new instance is created each time so that learning doesn't carry over into next trial\n",
    "    n = neuralNetwork(input_nodes,hidden_nodes,output_nodes, learning_rate)         "
   ]
  },
  {
   "cell_type": "code",
   "execution_count": 243,
   "metadata": {},
   "outputs": [
    {
     "name": "stdout",
     "output_type": "stream",
     "text": [
      "[95.62, 96.17]\n"
     ]
    }
   ],
   "source": [
    "#prints out the results so it can be pasted into cell below\n",
    "print(output_list)"
   ]
  },
  {
   "cell_type": "code",
   "execution_count": 219,
   "metadata": {},
   "outputs": [
    {
     "name": "stdout",
     "output_type": "stream",
     "text": [
      "96.91714285714286\n",
      "97.03\n"
     ]
    },
    {
     "data": {
      "text/plain": [
       "<matplotlib.legend.Legend at 0x7fd088315790>"
      ]
     },
     "execution_count": 219,
     "metadata": {},
     "output_type": "execute_result"
    },
    {
     "data": {
      "image/png": "[encoded data removed]",
      "text/plain": [
       "<Figure size 432x288 with 1 Axes>"
      ]
     },
     "metadata": {
      "needs_background": "light"
     },
     "output_type": "display_data"
    }
   ],
   "source": [
    "#code used to graph the results from stage 2\n",
    "#_2 = two epochs, _3 = 3 epochs\n",
    "\n",
    "no_shuffle_2 = [96.33, 96.35, 96.33, 96.5, 96.36, 96.43, 96.46]\n",
    "shuffle_2 = [96.58, 96.44, 96.39, 96.44, 96.38, 96.62, 96.58]\n",
    "\n",
    "no_shuffle_avg2 = sum(no_shuffle_2)/7\n",
    "shuffle_avg2 = sum(shuffle_2)/7\n",
    "\n",
    "no_shuffle_3 = [96.94, 97.0, 97.03, 96.94, 96.87, 96.65, 96.99]\n",
    "shuffle_3 = [97.07, 97.06, 97.07, 96.99, 96.83, 97.22, 96.97]\n",
    "\n",
    "no_shuffle_avg3 = sum(no_shuffle_3)/7\n",
    "shuffle_avg3 = sum(shuffle_3)/7\n",
    "\n",
    "print(no_shuffle_avg3)\n",
    "print(shuffle_avg3)\n",
    "\n",
    "shuffled_list = []\n",
    "shuffled_list.append(shuffle_avg2)\n",
    "shuffled_list.append(shuffle_avg3)\n",
    "\n",
    "no_shuffle_list = []\n",
    "no_shuffle_list.append(no_shuffle_avg2)\n",
    "no_shuffle_list.append(no_shuffle_avg3)\n",
    "\n",
    "\n",
    "list = [2, 3]\n",
    "\n",
    "#graph was not used in the report\n",
    "\n",
    "plt.plot(list, shuffled_list, 'go', label = \"shuffled\")\n",
    "plt.plot(list, no_shuffle_list, 'ro', label = \"unshuffled\")\n",
    "\n",
    "plt.xlabel(\"test number\")\n",
    "plt.ylabel(\"Performance (%)\")\n",
    "plt.title(\"Repeated performance of shuffled vs unshuffled for 3 epochs\")\n",
    "plt.legend()\n"
   ]
  },
  {
   "cell_type": "code",
   "execution_count": 240,
   "metadata": {},
   "outputs": [
    {
     "name": "stdout",
     "output_type": "stream",
     "text": [
      "96.87785714285714\n"
     ]
    }
   ],
   "source": [
    "#this is the data that was generated for table 4 in the discussion\n",
    "#e2 = 2 epochs, NS = no shuffle\n",
    "\n",
    "e2_training_same_orderNS = [97.05166666666666, 97.01, 97.01833333333333, 97.03166666666667, 96.92333333333333, 96.89166666666667, 96.91833333333334]\n",
    "e2_training_diff_orderNS = [96.965, 96.74, 96.68, 96.93666666666667, 96.84166666666667, 96.82, 96.965]\n",
    "\n",
    "e2_training_same_orderS = [96.89666666666666, 96.97166666666666, 96.89833333333333, 96.845, 96.92, 96.75166666666667, 96.86166666666666]\n",
    "e2_training_diff_orderS = [96.82333333333334, 96.75, 96.94833333333334, 96.915, 97.03166666666667, 96.93833333333333, 96.925]\n",
    "\n",
    "print(sum(e2_training_same_orderS)/7)"
   ]
  },
  {
   "cell_type": "markdown",
   "metadata": {},
   "source": [
    "Below is the code used to analyse the binary classification ANN"
   ]
  },
  {
   "cell_type": "code",
   "execution_count": 251,
   "metadata": {},
   "outputs": [],
   "source": [
    "#extract the elements to be classified out of the MNIST dataset, preserving order\n",
    "\n",
    "binary_training_list = []\n",
    "\n",
    "for e in training_data_list:\n",
    "    if (e[0] == \"4\" or e[0] == \"7\"):\n",
    "        binary_training_list.append(e)\n",
    "    pass\n",
    "\n",
    "binary_test_list = []\n",
    "\n",
    "for e in test_data_list:\n",
    "    if (e[0] == \"4\" or e[0] == \"7\"):\n",
    "        binary_test_list.append(e)\n",
    "    pass\n"
   ]
  },
  {
   "cell_type": "code",
   "execution_count": 252,
   "metadata": {},
   "outputs": [
    {
     "name": "stdout",
     "output_type": "stream",
     "text": [
      "epoch =  3 performance =  99.1044776119403\n",
      "epoch =  3 performance =  99.20398009950249\n",
      "epoch =  3 performance =  99.20398009950249\n",
      "epoch =  3 performance =  98.60696517412936\n"
     ]
    },
    {
     "ename": "KeyboardInterrupt",
     "evalue": "",
     "output_type": "error",
     "traceback": [
      "\u001b[0;31m---------------------------------------------------------------------------\u001b[0m",
      "\u001b[0;31mKeyboardInterrupt\u001b[0m                         Traceback (most recent call last)",
      "\u001b[1;32m/Users/josephsuckling/Desktop/Networks Final/1181663_MST.ipynb Cell 16'\u001b[0m in \u001b[0;36m<cell line: 11>\u001b[0;34m()\u001b[0m\n\u001b[1;32m     <a href='vscode-notebook-cell:/Users/josephsuckling/Desktop/Networks%20Final/1181663_MST.ipynb#ch0000038?line=23'>24</a>\u001b[0m     \u001b[39melse\u001b[39;00m:\n\u001b[1;32m     <a href='vscode-notebook-cell:/Users/josephsuckling/Desktop/Networks%20Final/1181663_MST.ipynb#ch0000038?line=24'>25</a>\u001b[0m         targets[\u001b[39m1\u001b[39m] \u001b[39m=\u001b[39m \u001b[39m0.99\u001b[39m\n\u001b[0;32m---> <a href='vscode-notebook-cell:/Users/josephsuckling/Desktop/Networks%20Final/1181663_MST.ipynb#ch0000038?line=25'>26</a>\u001b[0m     n\u001b[39m.\u001b[39;49mtrain(inputs, targets)\n\u001b[1;32m     <a href='vscode-notebook-cell:/Users/josephsuckling/Desktop/Networks%20Final/1181663_MST.ipynb#ch0000038?line=26'>27</a>\u001b[0m     \u001b[39mpass\u001b[39;00m\n\u001b[1;32m     <a href='vscode-notebook-cell:/Users/josephsuckling/Desktop/Networks%20Final/1181663_MST.ipynb#ch0000038?line=27'>28</a>\u001b[0m \u001b[39mpass\u001b[39;00m\n",
      "\u001b[1;32m/Users/josephsuckling/Desktop/Networks Final/1181663_MST.ipynb Cell 3'\u001b[0m in \u001b[0;36mneuralNetwork.train\u001b[0;34m(self, inputs_list, targets_list)\u001b[0m\n\u001b[1;32m     <a href='vscode-notebook-cell:/Users/josephsuckling/Desktop/Networks%20Final/1181663_MST.ipynb#ch0000005?line=27'>28</a>\u001b[0m targets \u001b[39m=\u001b[39m numpy\u001b[39m.\u001b[39marray(targets_list, ndmin\u001b[39m=\u001b[39m\u001b[39m2\u001b[39m)\u001b[39m.\u001b[39mT\n\u001b[1;32m     <a href='vscode-notebook-cell:/Users/josephsuckling/Desktop/Networks%20Final/1181663_MST.ipynb#ch0000005?line=29'>30</a>\u001b[0m \u001b[39m# calculate signals into hidden layer\u001b[39;00m\n\u001b[0;32m---> <a href='vscode-notebook-cell:/Users/josephsuckling/Desktop/Networks%20Final/1181663_MST.ipynb#ch0000005?line=30'>31</a>\u001b[0m hidden_inputs \u001b[39m=\u001b[39m numpy\u001b[39m.\u001b[39;49mdot(\u001b[39mself\u001b[39;49m\u001b[39m.\u001b[39;49mwih, inputs)\n\u001b[1;32m     <a href='vscode-notebook-cell:/Users/josephsuckling/Desktop/Networks%20Final/1181663_MST.ipynb#ch0000005?line=31'>32</a>\u001b[0m \u001b[39m# calculate the signals emerging from hidden layer\u001b[39;00m\n\u001b[1;32m     <a href='vscode-notebook-cell:/Users/josephsuckling/Desktop/Networks%20Final/1181663_MST.ipynb#ch0000005?line=32'>33</a>\u001b[0m hidden_outputs \u001b[39m=\u001b[39m \u001b[39mself\u001b[39m\u001b[39m.\u001b[39mactivation_function(hidden_inputs)\n",
      "File \u001b[0;32m<__array_function__ internals>:5\u001b[0m, in \u001b[0;36mdot\u001b[0;34m(*args, **kwargs)\u001b[0m\n",
      "\u001b[0;31mKeyboardInterrupt\u001b[0m: "
     ]
    }
   ],
   "source": [
    "\n",
    "#modified neural network that has only two output nodes\n",
    "\n",
    "n = neuralNetwork(input_nodes,hidden_nodes,output_nodes, learning_rate)\n",
    "\n",
    "index = 0\n",
    "\n",
    "two_distinct = [4, 7]\n",
    "\n",
    "output_list = []\n",
    "epochs = 3                              #<----- change the number of epochs here\n",
    "for index in range(0,7):                #<----- seven repeated trials \n",
    "    for e in range(epochs):\n",
    "        \n",
    "        # go through all records in the training data set \n",
    "        for record in binary_training_list:\n",
    "            # split the record by the ',' commas\n",
    "            all_values = record.split(',')\n",
    "            inputs = (numpy.asfarray(all_values[1:]) / 255.0 * 0.99) + 0.01\n",
    "            # create the target output values (all 0.01, except the desired label which is 0.99)\n",
    "            targets = numpy.zeros(output_nodes) + 0.01\n",
    "            # all_values[0] is the target label for this record\n",
    "            if (int(all_values[0]) == two_distinct[0]):                               \n",
    "                targets[0] = 0.99\n",
    "            else:\n",
    "                targets[1] = 0.99\n",
    "            n.train(inputs, targets)\n",
    "            pass\n",
    "        pass\n",
    "        random.shuffle(binary_training_list)\n",
    "       \n",
    "    # test the neural network\n",
    "\n",
    "    scorecard = []\n",
    "    out_array = numpy.zeros((2,2))\n",
    "    count_array = numpy.zeros(2)\n",
    "\n",
    "\n",
    "    # go through all the records in the test data set\n",
    "    for record in binary_test_list:\n",
    "        # split the record by the ',' commas\n",
    "        all_values = record.split(',')\n",
    "        # correct answer is first value\n",
    "        correct_label = int(all_values[0])\n",
    "        # scale and shift the inputs\n",
    "        inputs = (numpy.asfarray(all_values[1:]) / 255.0 * 0.99) + 0.01\n",
    "        # query the network\n",
    "        outputs = n.query(inputs)\n",
    "        \n",
    "        \n",
    "        \n",
    "        # Note that this array, outputs, is the 10 output nodes of the NW for each trial\n",
    "        # This is wehre you need to chnage the code below to build the confusion matrix\n",
    "        \n",
    "        if (correct_label) == two_distinct[0]:                                        \n",
    "            correct_label = 0\n",
    "        else:\n",
    "           correct_label = 1\n",
    "\n",
    "        label = numpy.argmax(outputs)\n",
    "        #print (\"label\", label, \"correct label = \", correct_label)\n",
    "        # append correct or incorrect to list \n",
    "        if (label == correct_label):\n",
    "            # network's answer matches correct answer, add 1 to scorecard\n",
    "            scorecard.append(1)\n",
    "            #add outputs to array\n",
    "\n",
    "        else:\n",
    "            # network's answer doesn't match correct answer, add 0 to scorecard\n",
    "            scorecard.append(0)\n",
    "            pass\n",
    "        pass\n",
    "\n",
    "        \n",
    "\n",
    "        # sum all of the outputs for each image\n",
    "        for i in range(2):    \n",
    "            out_array[correct_label][i] += outputs[i]\n",
    "        count_array[correct_label] += 1\n",
    "\n",
    "    # take the average of the outputs\n",
    "    for i in range(2):\n",
    "        out_array[i] = out_array[i]/count_array[i]\n",
    "\n",
    "\n",
    "    # calculate the performance score, the fraction of correct answers\n",
    "    scorecard_array = numpy.asarray(scorecard)\n",
    "    performance = scorecard_array.sum() * 100 / scorecard_array.size\n",
    "    print(\"epoch = \", epochs, \"performance = \", performance)\n",
    "\n",
    "    output_list.append(performance)\n",
    "    index += 1\n",
    "    n = neuralNetwork(input_nodes,hidden_nodes,output_nodes, learning_rate)"
   ]
  },
  {
   "cell_type": "code",
   "execution_count": null,
   "metadata": {},
   "outputs": [],
   "source": [
    "print(output_list)"
   ]
  },
  {
   "cell_type": "code",
   "execution_count": null,
   "metadata": {},
   "outputs": [],
   "source": [
    "#store whatever is printed here\n",
    "\n",
    "no_shuffle_3e_48 = [98.97750511247443, 98.97750511247443, 98.92638036809817, 98.97750511247443, 98.97750511247443, 98.97750511247443, 98.97750511247443]\n",
    "shuffle_3e_48 = [99.23312883435582, 99.43762781186093, 99.48875255623722, 99.33537832310839, 99.43762781186093, 99.43762781186093, 99.38650306748467]\n",
    "\n",
    "no_shuffle_3e_56 = [97.78378378378379, 97.83783783783784, 97.78378378378379, 97.89189189189189, 97.94594594594595, 97.94594594594595, 97.89189189189189]\n",
    "shuffle_3e_56 = [98.32432432432432, 98.43243243243244, 98.54054054054055, 97.78378378378379, 98.27027027027027, 98.05405405405405, 98.21621621621621]\n",
    "\n",
    "no_shuffle_3e_39 = [98.76176324913324, 98.81129271916791, 98.81129271916791, 98.81129271916791, 98.76176324913324, 98.86082218920258, 98.86082218920258]\n",
    "shuffle_3e_39 = [98.61317483902923, 98.81129271916791, 98.81129271916791, 98.6627043090639, 98.81129271916791, 98.71223377909857, 98.61317483902923]\n",
    "\n",
    "no_shuffle_3e_47 = [98.90547263681592, 99.25373134328358, 99.1542288557214,99.0049751243781, 99.25373134328358, 99.20398009950249, 99.30348258706468]\n",
    "shuffle_3e_47 = [99.35323383084577, 99.30348258706468, 99.20398009950249, 99.25373134328358, 99.1044776119403, 99.1542288557214, 99.1542288557214]\n",
    "\n",
    "avg_no_shuffle_3e_48 = sum(no_shuffle_3e_48)/7\n",
    "avg_shuffle_3e_48 = sum(shuffle_3e_48)/7\n",
    "\n",
    "avg_no_shuffle_3e_56 = sum(no_shuffle_3e_56)/7\n",
    "avg_shuffle_3e_56 = sum(shuffle_3e_56)/7\n",
    "\n",
    "avg_no_shuffle_3e_39 = sum(no_shuffle_3e_39)/7\n",
    "avg_shuffle_3e_39 = sum(shuffle_3e_39)/7\n",
    "\n",
    "avg_no_shuffle_3e_47 = sum(no_shuffle_3e_47)/7\n",
    "avg_shuffle_3e_47 = sum(shuffle_3e_47)/7\n",
    "\n",
    "print(avg_no_shuffle_3e_47)\n"
   ]
  }
 ],
 "metadata": {
  "kernelspec": {
   "display_name": "Python 3 (ipykernel)",
   "language": "python",
   "name": "python3"
  },
  "language_info": {
   "codemirror_mode": {
    "name": "ipython",
    "version": 3
   },
   "file_extension": ".py",
   "mimetype": "text/x-python",
   "name": "python",
   "nbconvert_exporter": "python",
   "pygments_lexer": "ipython3",
   "version": "3.9.12"
  },
  "vscode": {
   "interpreter": {
    "hash": "a124a99b66b599d33dfd63f04a1cef35ab7bb1ccd1b02a8647959011899266a7"
   }
  }
 },
 "nbformat": 4,
 "nbformat_minor": 1
}
